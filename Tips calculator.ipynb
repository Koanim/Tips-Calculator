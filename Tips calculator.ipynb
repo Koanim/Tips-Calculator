{
 "cells": [
  {
   "cell_type": "markdown",
   "id": "556f8187-fcea-443f-b710-57dc2f78208b",
   "metadata": {},
   "source": [
    "#                                WEEK 1 CASE STUDY\n",
    "\n",
    "##                                         TIP CALCULATOR \n",
    "###                                                            BY\n",
    "##                                         GROUP 10 - VICTOR NYARKO ANIM"
   ]
  },
  {
   "cell_type": "code",
   "execution_count": null,
   "id": "9d3a37ea-4554-4715-95ef-52bae0f0e89d",
   "metadata": {},
   "outputs": [],
   "source": []
  },
  {
   "cell_type": "code",
   "execution_count": null,
   "id": "b0ef230a-afaf-4399-a4c8-8775371c87f9",
   "metadata": {},
   "outputs": [],
   "source": []
  },
  {
   "cell_type": "code",
   "execution_count": 1,
   "id": "c291d776-f0e1-409d-aa5f-20e70caaaea5",
   "metadata": {
    "tags": []
   },
   "outputs": [
    {
     "name": "stdout",
     "output_type": "stream",
     "text": [
      "\n",
      "OUTPUT\n",
      "\n",
      "Tip = $9.00\n",
      "Sales tax = $3.50\n",
      "Grand total = $62.50\n"
     ]
    }
   ],
   "source": [
    "food_cost=float(input('INPUT\\n\\nCharge for food = $'))\n",
    "tip=food_cost*0.18\n",
    "sales_tax=food_cost*0.07\n",
    "total_cost=food_cost+tip+sales_tax\n",
    "print(f'\\nOUTPUT\\n\\nTip = ${tip:.2f}\\nSales tax = ${sales_tax:.2f}\\nGrand total = ${total_cost:.2f}')"
   ]
  },
  {
   "cell_type": "code",
   "execution_count": null,
   "id": "f9d38b3a-f8a4-4dda-9a09-3bae2bf9b98c",
   "metadata": {},
   "outputs": [],
   "source": []
  }
 ],
 "metadata": {
  "kernelspec": {
   "display_name": "Python 3 (ipykernel)",
   "language": "python",
   "name": "python3"
  },
  "language_info": {
   "codemirror_mode": {
    "name": "ipython",
    "version": 3
   },
   "file_extension": ".py",
   "mimetype": "text/x-python",
   "name": "python",
   "nbconvert_exporter": "python",
   "pygments_lexer": "ipython3",
   "version": "3.11.5"
  },
  "widgets": {
   "application/vnd.jupyter.widget-state+json": {
    "state": {},
    "version_major": 2,
    "version_minor": 0
   }
  }
 },
 "nbformat": 4,
 "nbformat_minor": 5
}
